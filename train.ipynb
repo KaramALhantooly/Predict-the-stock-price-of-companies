{
 "cells": [
  {
   "cell_type": "code",
   "execution_count": 38,
   "id": "137bc6c9",
   "metadata": {},
   "outputs": [
    {
     "data": {
      "text/html": [
       "<div>\n",
       "<style scoped>\n",
       "    .dataframe tbody tr th:only-of-type {\n",
       "        vertical-align: middle;\n",
       "    }\n",
       "\n",
       "    .dataframe tbody tr th {\n",
       "        vertical-align: top;\n",
       "    }\n",
       "\n",
       "    .dataframe thead th {\n",
       "        text-align: right;\n",
       "    }\n",
       "</style>\n",
       "<table border=\"1\" class=\"dataframe\">\n",
       "  <thead>\n",
       "    <tr style=\"text-align: right;\">\n",
       "      <th></th>\n",
       "      <th>Unnamed: 0</th>\n",
       "      <th>الشركة</th>\n",
       "      <th>السهم</th>\n",
       "      <th>القطاع</th>\n",
       "      <th>آخر سعر</th>\n",
       "      <th>نسبة التغيير</th>\n",
       "      <th>آخر تحديث</th>\n",
       "    </tr>\n",
       "  </thead>\n",
       "  <tbody>\n",
       "    <tr>\n",
       "      <th>0</th>\n",
       "      <td>0</td>\n",
       "      <td>سامبا</td>\n",
       "      <td>1090</td>\n",
       "      <td>البنوك</td>\n",
       "      <td>29.8</td>\n",
       "      <td>-1.16%</td>\n",
       "      <td>05 أغسطس 2019</td>\n",
       "    </tr>\n",
       "    <tr>\n",
       "      <th>1</th>\n",
       "      <td>1</td>\n",
       "      <td>السعودي الفرنسي</td>\n",
       "      <td>1050</td>\n",
       "      <td>البنوك</td>\n",
       "      <td>37.5</td>\n",
       "      <td>-3.47%</td>\n",
       "      <td>05 أغسطس 2019</td>\n",
       "    </tr>\n",
       "    <tr>\n",
       "      <th>2</th>\n",
       "      <td>2</td>\n",
       "      <td>الأول</td>\n",
       "      <td>1040</td>\n",
       "      <td>البنوك</td>\n",
       "      <td>19.58</td>\n",
       "      <td>1.45%</td>\n",
       "      <td>13 يونيو 2019</td>\n",
       "    </tr>\n",
       "    <tr>\n",
       "      <th>3</th>\n",
       "      <td>3</td>\n",
       "      <td>الجزيرة</td>\n",
       "      <td>1020</td>\n",
       "      <td>البنوك</td>\n",
       "      <td>14.74</td>\n",
       "      <td>-2.12%</td>\n",
       "      <td>05 أغسطس 2019</td>\n",
       "    </tr>\n",
       "    <tr>\n",
       "      <th>4</th>\n",
       "      <td>4</td>\n",
       "      <td>الرياض</td>\n",
       "      <td>1010</td>\n",
       "      <td>البنوك</td>\n",
       "      <td>25.05</td>\n",
       "      <td>-1.96%</td>\n",
       "      <td>05 أغسطس 2019</td>\n",
       "    </tr>\n",
       "  </tbody>\n",
       "</table>\n",
       "</div>"
      ],
      "text/plain": [
       "   Unnamed: 0           الشركة السهم  القطاع آخر سعر نسبة التغيير  \\\n",
       "0           0            سامبا  1090  البنوك    29.8       -1.16%   \n",
       "1           1  السعودي الفرنسي  1050  البنوك    37.5       -3.47%   \n",
       "2           2            الأول  1040  البنوك   19.58        1.45%   \n",
       "3           3          الجزيرة  1020  البنوك   14.74       -2.12%   \n",
       "4           4           الرياض  1010  البنوك   25.05       -1.96%   \n",
       "\n",
       "       آخر تحديث  \n",
       "0  05 أغسطس 2019  \n",
       "1  05 أغسطس 2019  \n",
       "2  13 يونيو 2019  \n",
       "3  05 أغسطس 2019  \n",
       "4  05 أغسطس 2019  "
      ]
     },
     "execution_count": 38,
     "metadata": {},
     "output_type": "execute_result"
    }
   ],
   "source": [
    "import pandas as pd\n",
    "\n",
    "data=pd.read_csv('saudi_stock_market_dataset.csv' , encoding='utf-8')\n",
    "data.head()"
   ]
  },
  {
   "cell_type": "code",
   "execution_count": 39,
   "id": "27b9482f",
   "metadata": {},
   "outputs": [
    {
     "name": "stdout",
     "output_type": "stream",
     "text": [
      "<class 'pandas.core.frame.DataFrame'>\n",
      "RangeIndex: 536 entries, 0 to 535\n",
      "Data columns (total 7 columns):\n",
      " #   Column        Non-Null Count  Dtype \n",
      "---  ------        --------------  ----- \n",
      " 0   Unnamed: 0    536 non-null    int64 \n",
      " 1   الشركة        536 non-null    object\n",
      " 2   السهم         536 non-null    object\n",
      " 3   القطاع        536 non-null    object\n",
      " 4   آخر سعر       536 non-null    object\n",
      " 5   نسبة التغيير  536 non-null    object\n",
      " 6   آخر تحديث     534 non-null    object\n",
      "dtypes: int64(1), object(6)\n",
      "memory usage: 29.4+ KB\n"
     ]
    }
   ],
   "source": [
    "data.info()"
   ]
  },
  {
   "cell_type": "code",
   "execution_count": 40,
   "id": "6b0c1290",
   "metadata": {},
   "outputs": [
    {
     "name": "stdout",
     "output_type": "stream",
     "text": [
      "<class 'pandas.core.frame.DataFrame'>\n",
      "RangeIndex: 536 entries, 0 to 535\n",
      "Data columns (total 7 columns):\n",
      " #   Column        Non-Null Count  Dtype  \n",
      "---  ------        --------------  -----  \n",
      " 0   Unnamed: 0    536 non-null    int64  \n",
      " 1   الشركة        536 non-null    object \n",
      " 2   السهم         512 non-null    float64\n",
      " 3   القطاع        536 non-null    object \n",
      " 4   آخر سعر       530 non-null    float64\n",
      " 5   نسبة التغيير  536 non-null    object \n",
      " 6   آخر تحديث     534 non-null    object \n",
      "dtypes: float64(2), int64(1), object(4)\n",
      "memory usage: 29.4+ KB\n"
     ]
    }
   ],
   "source": [
    "data['السهم']=pd.to_numeric(data['السهم'] ,errors='coerce')\n",
    "data['آخر سعر']=pd.to_numeric(data['آخر سعر'] ,errors='coerce')\n",
    "data.info()"
   ]
  },
  {
   "cell_type": "code",
   "execution_count": 41,
   "id": "3937db8e",
   "metadata": {},
   "outputs": [
    {
     "data": {
      "text/plain": [
       "<AxesSubplot:ylabel='Frequency'>"
      ]
     },
     "execution_count": 41,
     "metadata": {},
     "output_type": "execute_result"
    },
    {
     "data": {
      "image/png": "[encoded data removed]",
      "text/plain": [
       "<Figure size 432x288 with 1 Axes>"
      ]
     },
     "metadata": {
      "needs_background": "light"
     },
     "output_type": "display_data"
    }
   ],
   "source": [
    "data['آخر سعر'].plot.hist(bins=50)"
   ]
  },
  {
   "cell_type": "code",
   "execution_count": 42,
   "id": "ff4b6f7d",
   "metadata": {},
   "outputs": [],
   "source": [
    "import numpy as np"
   ]
  },
  {
   "cell_type": "code",
   "execution_count": 43,
   "id": "424678e5",
   "metadata": {},
   "outputs": [
    {
     "data": {
      "text/plain": [
       "20.16"
      ]
     },
     "execution_count": 43,
     "metadata": {},
     "output_type": "execute_result"
    }
   ],
   "source": [
    "median = np.nanmedian(data['آخر سعر'])\n",
    "median"
   ]
  },
  {
   "cell_type": "code",
   "execution_count": 44,
   "id": "dd02a2f8",
   "metadata": {},
   "outputs": [],
   "source": [
    "data['آخر سعر'].fillna(median , inplace =True)"
   ]
  },
  {
   "cell_type": "code",
   "execution_count": 45,
   "id": "816a1abf",
   "metadata": {},
   "outputs": [
    {
     "name": "stdout",
     "output_type": "stream",
     "text": [
      "<class 'pandas.core.frame.DataFrame'>\n",
      "RangeIndex: 536 entries, 0 to 535\n",
      "Data columns (total 7 columns):\n",
      " #   Column        Non-Null Count  Dtype  \n",
      "---  ------        --------------  -----  \n",
      " 0   Unnamed: 0    536 non-null    int64  \n",
      " 1   الشركة        536 non-null    object \n",
      " 2   السهم         512 non-null    float64\n",
      " 3   القطاع        536 non-null    object \n",
      " 4   آخر سعر       536 non-null    float64\n",
      " 5   نسبة التغيير  536 non-null    object \n",
      " 6   آخر تحديث     534 non-null    object \n",
      "dtypes: float64(2), int64(1), object(4)\n",
      "memory usage: 29.4+ KB\n"
     ]
    }
   ],
   "source": [
    "data.info()"
   ]
  },
  {
   "cell_type": "code",
   "execution_count": 47,
   "id": "1b092afe",
   "metadata": {},
   "outputs": [
    {
     "data": {
      "text/plain": [
       "<AxesSubplot:ylabel='Frequency'>"
      ]
     },
     "execution_count": 47,
     "metadata": {},
     "output_type": "execute_result"
    },
    {
     "data": {
      "image/png": "[encoded data removed]",
      "text/plain": [
       "<Figure size 432x288 with 1 Axes>"
      ]
     },
     "metadata": {
      "needs_background": "light"
     },
     "output_type": "display_data"
    }
   ],
   "source": [
    "data['السهم'].plot.hist(bins=50)"
   ]
  },
  {
   "cell_type": "code",
   "execution_count": 48,
   "id": "00e4f6cd",
   "metadata": {},
   "outputs": [
    {
     "data": {
      "text/plain": [
       "3090.5"
      ]
     },
     "execution_count": 48,
     "metadata": {},
     "output_type": "execute_result"
    }
   ],
   "source": [
    "median = np.nanmedian(data['السهم'])\n",
    "median"
   ]
  },
  {
   "cell_type": "code",
   "execution_count": 50,
   "id": "2bd2119e",
   "metadata": {},
   "outputs": [],
   "source": [
    "data['السهم'].fillna(median , inplace =True)"
   ]
  },
  {
   "cell_type": "code",
   "execution_count": 51,
   "id": "a8869df3",
   "metadata": {},
   "outputs": [
    {
     "name": "stdout",
     "output_type": "stream",
     "text": [
      "<class 'pandas.core.frame.DataFrame'>\n",
      "RangeIndex: 536 entries, 0 to 535\n",
      "Data columns (total 7 columns):\n",
      " #   Column        Non-Null Count  Dtype  \n",
      "---  ------        --------------  -----  \n",
      " 0   Unnamed: 0    536 non-null    int64  \n",
      " 1   الشركة        536 non-null    object \n",
      " 2   السهم         536 non-null    float64\n",
      " 3   القطاع        536 non-null    object \n",
      " 4   آخر سعر       536 non-null    float64\n",
      " 5   نسبة التغيير  536 non-null    object \n",
      " 6   آخر تحديث     534 non-null    object \n",
      "dtypes: float64(2), int64(1), object(4)\n",
      "memory usage: 29.4+ KB\n"
     ]
    }
   ],
   "source": [
    "data.info()"
   ]
  },
  {
   "cell_type": "code",
   "execution_count": 53,
   "id": "40a93a80",
   "metadata": {},
   "outputs": [],
   "source": [
    "import matplotlib.pyplot as plt\n",
    "import seaborn as sns"
   ]
  },
  {
   "cell_type": "code",
   "execution_count": 57,
   "id": "3485497a",
   "metadata": {},
   "outputs": [
    {
     "data": {
      "text/plain": [
       "Text(0, 0.5, 'السهم')"
      ]
     },
     "execution_count": 57,
     "metadata": {},
     "output_type": "execute_result"
    },
    {
     "data": {
      "image/png": "[encoded data removed]",
      "text/plain": [
       "<Figure size 432x288 with 1 Axes>"
      ]
     },
     "metadata": {
      "needs_background": "light"
     },
     "output_type": "display_data"
    }
   ],
   "source": [
    "sns.scatterplot(x=data['آخر سعر'] ,y= data['السهم'])\n",
    "plt.title('numeric target and numric respone ', fontsize=18)\n",
    "plt.xlabel('last price')\n",
    "plt.ylabel('السهم')"
   ]
  },
  {
   "cell_type": "code",
   "execution_count": 60,
   "id": "0bf21195",
   "metadata": {},
   "outputs": [
    {
     "data": {
      "text/plain": [
       "المواد الأساسية                 124\n",
       "التأمين                          67\n",
       "البنوك                           52\n",
       "إنتاج الأغذية                    47\n",
       "السلع الرأسمالية                 35\n",
       "الخدمات الإستهلاكية              26\n",
       "إدارة وتطوير العقارات            26\n",
       "تجزئة السلع الكمالية             19\n",
       "النقل                            16\n",
       "السلع طويلة الاجل                15\n",
       "الطاقة                           14\n",
       "الرعاية الصحية                   13\n",
       "الإتصالات                        12\n",
       "الإستثمار والتمويل               11\n",
       "تجزئة الأغذية                    10\n",
       "الخدمات التجارية والمهنية         8\n",
       "البنوك والخدمات المالية           7\n",
       "الإعلام والترفيه                  7\n",
       "المرافق العامة                    7\n",
       "التطبيقات وخدمات التقنية          4\n",
       "الصناعات                          3\n",
       "البضائع والخدمات الاستهلاكية      3\n",
       "الادوية                           3\n",
       "9.5                               2\n",
       "9.13                              2\n",
       "العقارات                          1\n",
       "15.04                             1\n",
       "15.3                              1\n",
       "Name: القطاع, dtype: int64"
      ]
     },
     "execution_count": 60,
     "metadata": {},
     "output_type": "execute_result"
    }
   ],
   "source": [
    "data['القطاع'].value_counts()"
   ]
  },
  {
   "cell_type": "code",
   "execution_count": 63,
   "id": "2b98f0e1",
   "metadata": {},
   "outputs": [],
   "source": [
    "data['القطاع']=pd.Categorical(data['القطاع'])\n",
    "data['القطاع رموز'] = data['القطاع'].cat.codes"
   ]
  },
  {
   "cell_type": "code",
   "execution_count": 67,
   "id": "cbb72e2f",
   "metadata": {},
   "outputs": [
    {
     "data": {
      "text/plain": [
       "28"
      ]
     },
     "execution_count": 67,
     "metadata": {},
     "output_type": "execute_result"
    }
   ],
   "source": [
    "len(data['القطاع'].value_counts())"
   ]
  },
  {
   "cell_type": "code",
   "execution_count": 68,
   "id": "7359b59f",
   "metadata": {},
   "outputs": [
    {
     "data": {
      "text/plain": [
       "28"
      ]
     },
     "execution_count": 68,
     "metadata": {},
     "output_type": "execute_result"
    }
   ],
   "source": [
    "len(data['القطاع رموز'].value_counts())"
   ]
  },
  {
   "cell_type": "code",
   "execution_count": 69,
   "id": "7694db69",
   "metadata": {},
   "outputs": [
    {
     "data": {
      "text/html": [
       "<div>\n",
       "<style scoped>\n",
       "    .dataframe tbody tr th:only-of-type {\n",
       "        vertical-align: middle;\n",
       "    }\n",
       "\n",
       "    .dataframe tbody tr th {\n",
       "        vertical-align: top;\n",
       "    }\n",
       "\n",
       "    .dataframe thead th {\n",
       "        text-align: right;\n",
       "    }\n",
       "</style>\n",
       "<table border=\"1\" class=\"dataframe\">\n",
       "  <thead>\n",
       "    <tr style=\"text-align: right;\">\n",
       "      <th></th>\n",
       "      <th>Unnamed: 0</th>\n",
       "      <th>الشركة</th>\n",
       "      <th>السهم</th>\n",
       "      <th>القطاع</th>\n",
       "      <th>آخر سعر</th>\n",
       "      <th>نسبة التغيير</th>\n",
       "      <th>آخر تحديث</th>\n",
       "      <th>القطاع رموز</th>\n",
       "    </tr>\n",
       "  </thead>\n",
       "  <tbody>\n",
       "    <tr>\n",
       "      <th>0</th>\n",
       "      <td>0</td>\n",
       "      <td>سامبا</td>\n",
       "      <td>1090.0</td>\n",
       "      <td>البنوك</td>\n",
       "      <td>29.80</td>\n",
       "      <td>-1.16%</td>\n",
       "      <td>05 أغسطس 2019</td>\n",
       "      <td>11</td>\n",
       "    </tr>\n",
       "    <tr>\n",
       "      <th>1</th>\n",
       "      <td>1</td>\n",
       "      <td>السعودي الفرنسي</td>\n",
       "      <td>1050.0</td>\n",
       "      <td>البنوك</td>\n",
       "      <td>37.50</td>\n",
       "      <td>-3.47%</td>\n",
       "      <td>05 أغسطس 2019</td>\n",
       "      <td>11</td>\n",
       "    </tr>\n",
       "    <tr>\n",
       "      <th>2</th>\n",
       "      <td>2</td>\n",
       "      <td>الأول</td>\n",
       "      <td>1040.0</td>\n",
       "      <td>البنوك</td>\n",
       "      <td>19.58</td>\n",
       "      <td>1.45%</td>\n",
       "      <td>13 يونيو 2019</td>\n",
       "      <td>11</td>\n",
       "    </tr>\n",
       "    <tr>\n",
       "      <th>3</th>\n",
       "      <td>3</td>\n",
       "      <td>الجزيرة</td>\n",
       "      <td>1020.0</td>\n",
       "      <td>البنوك</td>\n",
       "      <td>14.74</td>\n",
       "      <td>-2.12%</td>\n",
       "      <td>05 أغسطس 2019</td>\n",
       "      <td>11</td>\n",
       "    </tr>\n",
       "    <tr>\n",
       "      <th>4</th>\n",
       "      <td>4</td>\n",
       "      <td>الرياض</td>\n",
       "      <td>1010.0</td>\n",
       "      <td>البنوك</td>\n",
       "      <td>25.05</td>\n",
       "      <td>-1.96%</td>\n",
       "      <td>05 أغسطس 2019</td>\n",
       "      <td>11</td>\n",
       "    </tr>\n",
       "  </tbody>\n",
       "</table>\n",
       "</div>"
      ],
      "text/plain": [
       "   Unnamed: 0           الشركة   السهم  القطاع  آخر سعر نسبة التغيير  \\\n",
       "0           0            سامبا  1090.0  البنوك    29.80       -1.16%   \n",
       "1           1  السعودي الفرنسي  1050.0  البنوك    37.50       -3.47%   \n",
       "2           2            الأول  1040.0  البنوك    19.58        1.45%   \n",
       "3           3          الجزيرة  1020.0  البنوك    14.74       -2.12%   \n",
       "4           4           الرياض  1010.0  البنوك    25.05       -1.96%   \n",
       "\n",
       "       آخر تحديث  القطاع رموز  \n",
       "0  05 أغسطس 2019           11  \n",
       "1  05 أغسطس 2019           11  \n",
       "2  13 يونيو 2019           11  \n",
       "3  05 أغسطس 2019           11  \n",
       "4  05 أغسطس 2019           11  "
      ]
     },
     "execution_count": 69,
     "metadata": {},
     "output_type": "execute_result"
    }
   ],
   "source": [
    "data.head()"
   ]
  },
  {
   "cell_type": "code",
   "execution_count": 76,
   "id": "42bbc9d5",
   "metadata": {},
   "outputs": [
    {
     "name": "stderr",
     "output_type": "stream",
     "text": [
      "C:\\Users\\KRM0201517\\Anaconda3\\lib\\site-packages\\seaborn\\_decorators.py:36: FutureWarning: Pass the following variable as a keyword arg: x. From version 0.12, the only valid positional argument will be `data`, and passing other arguments without an explicit keyword will result in an error or misinterpretation.\n",
      "  warnings.warn(\n"
     ]
    },
    {
     "data": {
      "image/png": "[encoded data removed]",
      "text/plain": [
       "<Figure size 2160x2160 with 1 Axes>"
      ]
     },
     "metadata": {
      "needs_background": "light"
     },
     "output_type": "display_data"
    }
   ],
   "source": [
    "sns.boxplot(data['القطاع رموز'] , y= data['السهم'])\n",
    "plt.title('numuric predictor & catagorical response', fontsize=18)  # عنوان الرسم\n",
    "plt.xlabel('القطاع رموز', fontsize=14)  # اسم المتغير السيني\n",
    "plt.ylabel('السهم', fontsize=14)  # \n",
    "plt.rcParams[\"figure.figsize\"] = (20,30)  # تغيير الحجم\n",
    "\n",
    "plt.show()"
   ]
  },
  {
   "cell_type": "code",
   "execution_count": 79,
   "id": "3208ec98",
   "metadata": {},
   "outputs": [
    {
     "name": "stderr",
     "output_type": "stream",
     "text": [
      "C:\\Users\\KRM0201517\\Anaconda3\\lib\\site-packages\\seaborn\\distributions.py:316: UserWarning: Dataset has 0 variance; skipping density estimate. Pass `warn_singular=False` to disable this warning.\n",
      "  warnings.warn(msg, UserWarning)\n"
     ]
    },
    {
     "data": {
      "image/png": "[encoded data removed]",
      "text/plain": [
       "<Figure size 720x720 with 1 Axes>"
      ]
     },
     "metadata": {
      "needs_background": "light"
     },
     "output_type": "display_data"
    }
   ],
   "source": [
    "# سنقوم بالعكس لنجرب متغير التنبؤ فئوي و الاستجابة رقمي ===> رسم الكثافة \n",
    "for i in range(6, len(data['القطاع رموز'].value_counts())):\n",
    "    sns.kdeplot(data.loc[data['القطاع رموز']==i, 'آخر سعر'], label=i)\n",
    "plt.title('catagorical predictor & numeric response', fontsize=18)  # عنوان الرسم\n",
    "plt.xlabel('القطاع رموز', fontsize=14)  # اسم المتغير السيني\n",
    "plt.ylabel('آخر سعر', fontsize=14)  # اسم المتغير الصادي\n",
    "plt.show()"
   ]
  },
  {
   "cell_type": "code",
   "execution_count": 81,
   "id": "02d6f6c3",
   "metadata": {},
   "outputs": [
    {
     "data": {
      "text/plain": [
       "207"
      ]
     },
     "execution_count": 81,
     "metadata": {},
     "output_type": "execute_result"
    }
   ],
   "source": [
    "# سنحول القيم في فئة القطاع إلى أرقام لتكون واضحة في الرسم\n",
    "data['الشركة'] = pd.Categorical(data['الشركة'])\n",
    "data['الشركة رموز'] = data['الشركة'].cat.codes\n",
    "len(data['الشركة رموز'].value_counts())"
   ]
  },
  {
   "cell_type": "code",
   "execution_count": 83,
   "id": "ef57ab24",
   "metadata": {},
   "outputs": [
    {
     "data": {
      "image/png": "[encoded data removed]",
      "text/plain": [
       "<Figure size 1440x1440 with 3 Axes>"
      ]
     },
     "metadata": {
      "needs_background": "light"
     },
     "output_type": "display_data"
    }
   ],
   "source": [
    "from statsmodels.graphics.mosaicplot import mosaic\n",
    "\n",
    "mosaic(data[7:14], ['الشركة رموز', 'القطاع رموز'])\n",
    "plt.title('catagorical predictor & catagorical response', fontsize=18)  # عنوان الرسم\n",
    "plt.rcParams[\"figure.figsize\"] = (20,20)  # تغيير الحجم\n",
    "plt.show()"
   ]
  },
  {
   "cell_type": "code",
   "execution_count": null,
   "id": "5445fbf9",
   "metadata": {},
   "outputs": [],
   "source": []
  }
 ],
 "metadata": {
  "kernelspec": {
   "display_name": "Python 3 (ipykernel)",
   "language": "python",
   "name": "python3"
  },
  "language_info": {
   "codemirror_mode": {
    "name": "ipython",
    "version": 3
   },
   "file_extension": ".py",
   "mimetype": "text/x-python",
   "name": "python",
   "nbconvert_exporter": "python",
   "pygments_lexer": "ipython3",
   "version": "3.9.7"
  }
 },
 "nbformat": 4,
 "nbformat_minor": 5
}
